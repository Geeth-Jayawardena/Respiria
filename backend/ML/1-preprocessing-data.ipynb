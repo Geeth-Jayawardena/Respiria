{
 "cells": [
  {
   "cell_type": "code",
   "execution_count": 21,
   "metadata": {
    "_cell_guid": "b1076dfc-b9ad-4769-8c92-a6c4dae69d19",
    "_uuid": "8f2839f25d086af736a60e9eeb907d3b93b6e0e5",
    "execution": {
     "iopub.execute_input": "2020-09-23T14:46:10.082099Z",
     "iopub.status.busy": "2020-09-23T14:46:10.081407Z",
     "iopub.status.idle": "2020-09-23T14:46:17.589761Z",
     "shell.execute_reply": "2020-09-23T14:46:17.588882Z"
    },
    "papermill": {
     "duration": 7.530525,
     "end_time": "2020-09-23T14:46:17.589990",
     "exception": false,
     "start_time": "2020-09-23T14:46:10.059465",
     "status": "completed"
    },
    "tags": []
   },
   "outputs": [],
   "source": [
    "import numpy as np # linear algebra\n",
    "import pandas as pd # data processing, CSV file I/O (e.g. pd.read_csv)\n",
    "import tensorflow as tf\n",
    "from tensorflow import keras\n",
    "import matplotlib.pyplot as plt\n",
    "import seaborn as sns\n",
    "import librosa.display\n",
    "import librosa as lb\n",
    "import soundfile as sf\n",
    "\n",
    "import os"
   ]
  },
  {
   "attachments": {},
   "cell_type": "markdown",
   "metadata": {
    "papermill": {
     "duration": 0.021888,
     "end_time": "2020-09-23T14:46:17.633270",
     "exception": false,
     "start_time": "2020-09-23T14:46:17.611382",
     "status": "completed"
    },
    "tags": []
   },
   "source": [
    "### Reading and Utilizing Provided Data"
   ]
  },
  {
   "cell_type": "code",
   "execution_count": 2,
   "metadata": {
    "_cell_guid": "79c7e3d0-c299-4dcb-8224-4455121ee9b0",
    "_uuid": "d629ff2d2480ee46fbb7e2d37f6b5fab8052498a",
    "execution": {
     "iopub.execute_input": "2020-09-23T14:46:17.704191Z",
     "iopub.status.busy": "2020-09-23T14:46:17.703293Z",
     "iopub.status.idle": "2020-09-23T14:46:17.718809Z",
     "shell.execute_reply": "2020-09-23T14:46:17.719746Z"
    },
    "papermill": {
     "duration": 0.063717,
     "end_time": "2020-09-23T14:46:17.720006",
     "exception": false,
     "start_time": "2020-09-23T14:46:17.656289",
     "status": "completed"
    },
    "tags": []
   },
   "outputs": [],
   "source": [
    "patient_data=pd.read_csv('data/patient_diagnosis.csv',names=['pid','disease'])"
   ]
  },
  {
   "cell_type": "code",
   "execution_count": 3,
   "metadata": {
    "execution": {
     "iopub.execute_input": "2020-09-23T14:46:17.805989Z",
     "iopub.status.busy": "2020-09-23T14:46:17.805142Z",
     "iopub.status.idle": "2020-09-23T14:46:17.821280Z",
     "shell.execute_reply": "2020-09-23T14:46:17.822334Z"
    },
    "papermill": {
     "duration": 0.075557,
     "end_time": "2020-09-23T14:46:17.822491",
     "exception": false,
     "start_time": "2020-09-23T14:46:17.746934",
     "status": "completed"
    },
    "tags": []
   },
   "outputs": [
    {
     "data": {
      "text/html": [
       "<div>\n",
       "<style scoped>\n",
       "    .dataframe tbody tr th:only-of-type {\n",
       "        vertical-align: middle;\n",
       "    }\n",
       "\n",
       "    .dataframe tbody tr th {\n",
       "        vertical-align: top;\n",
       "    }\n",
       "\n",
       "    .dataframe thead th {\n",
       "        text-align: right;\n",
       "    }\n",
       "</style>\n",
       "<table border=\"1\" class=\"dataframe\">\n",
       "  <thead>\n",
       "    <tr style=\"text-align: right;\">\n",
       "      <th></th>\n",
       "      <th>pid</th>\n",
       "      <th>disease</th>\n",
       "    </tr>\n",
       "  </thead>\n",
       "  <tbody>\n",
       "    <tr>\n",
       "      <th>0</th>\n",
       "      <td>101</td>\n",
       "      <td>URTI</td>\n",
       "    </tr>\n",
       "    <tr>\n",
       "      <th>1</th>\n",
       "      <td>102</td>\n",
       "      <td>Healthy</td>\n",
       "    </tr>\n",
       "    <tr>\n",
       "      <th>2</th>\n",
       "      <td>103</td>\n",
       "      <td>Asthma</td>\n",
       "    </tr>\n",
       "    <tr>\n",
       "      <th>3</th>\n",
       "      <td>104</td>\n",
       "      <td>COPD</td>\n",
       "    </tr>\n",
       "    <tr>\n",
       "      <th>4</th>\n",
       "      <td>105</td>\n",
       "      <td>URTI</td>\n",
       "    </tr>\n",
       "  </tbody>\n",
       "</table>\n",
       "</div>"
      ],
      "text/plain": [
       "   pid  disease\n",
       "0  101     URTI\n",
       "1  102  Healthy\n",
       "2  103   Asthma\n",
       "3  104     COPD\n",
       "4  105     URTI"
      ]
     },
     "execution_count": 3,
     "metadata": {},
     "output_type": "execute_result"
    }
   ],
   "source": [
    "patient_data.head()"
   ]
  },
  {
   "cell_type": "code",
   "execution_count": 4,
   "metadata": {
    "execution": {
     "iopub.execute_input": "2020-09-23T14:46:17.979371Z",
     "iopub.status.busy": "2020-09-23T14:46:17.978507Z",
     "iopub.status.idle": "2020-09-23T14:46:17.989699Z",
     "shell.execute_reply": "2020-09-23T14:46:17.990183Z"
    },
    "papermill": {
     "duration": 0.037841,
     "end_time": "2020-09-23T14:46:17.990303",
     "exception": false,
     "start_time": "2020-09-23T14:46:17.952462",
     "status": "completed"
    },
    "tags": []
   },
   "outputs": [
    {
     "data": {
      "text/html": [
       "<div>\n",
       "<style scoped>\n",
       "    .dataframe tbody tr th:only-of-type {\n",
       "        vertical-align: middle;\n",
       "    }\n",
       "\n",
       "    .dataframe tbody tr th {\n",
       "        vertical-align: top;\n",
       "    }\n",
       "\n",
       "    .dataframe thead th {\n",
       "        text-align: right;\n",
       "    }\n",
       "</style>\n",
       "<table border=\"1\" class=\"dataframe\">\n",
       "  <thead>\n",
       "    <tr style=\"text-align: right;\">\n",
       "      <th></th>\n",
       "      <th>1.862</th>\n",
       "      <th>5.718</th>\n",
       "      <th>0</th>\n",
       "      <th>1</th>\n",
       "    </tr>\n",
       "  </thead>\n",
       "  <tbody>\n",
       "    <tr>\n",
       "      <th>0</th>\n",
       "      <td>5.718</td>\n",
       "      <td>9.725</td>\n",
       "      <td>1</td>\n",
       "      <td>1</td>\n",
       "    </tr>\n",
       "    <tr>\n",
       "      <th>1</th>\n",
       "      <td>9.725</td>\n",
       "      <td>13.614</td>\n",
       "      <td>0</td>\n",
       "      <td>1</td>\n",
       "    </tr>\n",
       "    <tr>\n",
       "      <th>2</th>\n",
       "      <td>13.614</td>\n",
       "      <td>17.671</td>\n",
       "      <td>0</td>\n",
       "      <td>1</td>\n",
       "    </tr>\n",
       "    <tr>\n",
       "      <th>3</th>\n",
       "      <td>17.671</td>\n",
       "      <td>19.541</td>\n",
       "      <td>0</td>\n",
       "      <td>0</td>\n",
       "    </tr>\n",
       "  </tbody>\n",
       "</table>\n",
       "</div>"
      ],
      "text/plain": [
       "    1.862   5.718  0  1\n",
       "0   5.718   9.725  1  1\n",
       "1   9.725  13.614  0  1\n",
       "2  13.614  17.671  0  1\n",
       "3  17.671  19.541  0  0"
      ]
     },
     "execution_count": 4,
     "metadata": {},
     "output_type": "execute_result"
    }
   ],
   "source": [
    "df=pd.read_csv('data/audio_and_txt_files/160_1b3_Al_mc_AKGC417L.txt',sep='\\t')\n",
    "df.head()"
   ]
  },
  {
   "attachments": {},
   "cell_type": "markdown",
   "metadata": {
    "papermill": {
     "duration": 0.017375,
     "end_time": "2020-09-23T14:46:18.026172",
     "exception": false,
     "start_time": "2020-09-23T14:46:18.008797",
     "status": "completed"
    },
    "tags": []
   },
   "source": [
    "(Start , End ( time of respiratory cycles) ,crackles,weezels)"
   ]
  },
  {
   "cell_type": "code",
   "execution_count": 5,
   "metadata": {
    "execution": {
     "iopub.execute_input": "2020-09-23T14:46:18.068908Z",
     "iopub.status.busy": "2020-09-23T14:46:18.068360Z",
     "iopub.status.idle": "2020-09-23T14:46:18.106826Z",
     "shell.execute_reply": "2020-09-23T14:46:18.106410Z"
    },
    "papermill": {
     "duration": 0.06258,
     "end_time": "2020-09-23T14:46:18.106915",
     "exception": false,
     "start_time": "2020-09-23T14:46:18.044335",
     "status": "completed"
    },
    "tags": []
   },
   "outputs": [
    {
     "data": {
      "text/plain": [
       "['148_1b1_Al_sc_Meditron',\n",
       " '130_3p2_Tc_mc_AKGC417L',\n",
       " '107_2b4_Al_mc_AKGC417L',\n",
       " '160_2b4_Pr_mc_AKGC417L',\n",
       " '174_1p4_Ar_mc_AKGC417L']"
      ]
     },
     "execution_count": 5,
     "metadata": {},
     "output_type": "execute_result"
    }
   ],
   "source": [
    "path='data/audio_and_txt_files/'\n",
    "files=[s.split('.')[0] for s in os.listdir(path) if '.txt' in s]\n",
    "files[:5]"
   ]
  },
  {
   "cell_type": "code",
   "execution_count": 6,
   "metadata": {
    "execution": {
     "iopub.execute_input": "2020-09-23T14:46:18.182464Z",
     "iopub.status.busy": "2020-09-23T14:46:18.181128Z",
     "iopub.status.idle": "2020-09-23T14:46:18.183594Z",
     "shell.execute_reply": "2020-09-23T14:46:18.184170Z"
    },
    "papermill": {
     "duration": 0.024627,
     "end_time": "2020-09-23T14:46:18.184282",
     "exception": false,
     "start_time": "2020-09-23T14:46:18.159655",
     "status": "completed"
    },
    "tags": []
   },
   "outputs": [],
   "source": [
    "def getFilenameInfo(file):\n",
    "    return file.split('_')"
   ]
  },
  {
   "cell_type": "code",
   "execution_count": 7,
   "metadata": {
    "execution": {
     "iopub.execute_input": "2020-09-23T14:46:18.224372Z",
     "iopub.status.busy": "2020-09-23T14:46:18.223752Z",
     "iopub.status.idle": "2020-09-23T14:46:18.229661Z",
     "shell.execute_reply": "2020-09-23T14:46:18.229226Z"
    },
    "papermill": {
     "duration": 0.027673,
     "end_time": "2020-09-23T14:46:18.229743",
     "exception": false,
     "start_time": "2020-09-23T14:46:18.202070",
     "status": "completed"
    },
    "tags": []
   },
   "outputs": [
    {
     "data": {
      "text/plain": [
       "['160', '1b3', 'Al', 'mc', 'AKGC417L']"
      ]
     },
     "execution_count": 7,
     "metadata": {},
     "output_type": "execute_result"
    }
   ],
   "source": [
    "getFilenameInfo('160_1b3_Al_mc_AKGC417L')"
   ]
  },
  {
   "attachments": {},
   "cell_type": "markdown",
   "metadata": {
    "papermill": {
     "duration": 0.017295,
     "end_time": "2020-09-23T14:46:18.265012",
     "exception": false,
     "start_time": "2020-09-23T14:46:18.247717",
     "status": "completed"
    },
    "tags": []
   },
   "source": [
    "[Patient ID, __ ,__ ,Type(mono,stereo), __ ]"
   ]
  },
  {
   "cell_type": "code",
   "execution_count": 8,
   "metadata": {
    "execution": {
     "iopub.execute_input": "2020-09-23T14:46:18.311807Z",
     "iopub.status.busy": "2020-09-23T14:46:18.311197Z",
     "iopub.status.idle": "2020-09-23T14:46:22.381988Z",
     "shell.execute_reply": "2020-09-23T14:46:22.381525Z"
    },
    "papermill": {
     "duration": 4.099385,
     "end_time": "2020-09-23T14:46:22.382095",
     "exception": false,
     "start_time": "2020-09-23T14:46:18.282710",
     "status": "completed"
    },
    "tags": []
   },
   "outputs": [
    {
     "data": {
      "text/html": [
       "<div>\n",
       "<style scoped>\n",
       "    .dataframe tbody tr th:only-of-type {\n",
       "        vertical-align: middle;\n",
       "    }\n",
       "\n",
       "    .dataframe tbody tr th {\n",
       "        vertical-align: top;\n",
       "    }\n",
       "\n",
       "    .dataframe thead th {\n",
       "        text-align: right;\n",
       "    }\n",
       "</style>\n",
       "<table border=\"1\" class=\"dataframe\">\n",
       "  <thead>\n",
       "    <tr style=\"text-align: right;\">\n",
       "      <th></th>\n",
       "      <th>start</th>\n",
       "      <th>end</th>\n",
       "      <th>crackles</th>\n",
       "      <th>weezels</th>\n",
       "      <th>pid</th>\n",
       "      <th>mode</th>\n",
       "      <th>filename</th>\n",
       "    </tr>\n",
       "  </thead>\n",
       "  <tbody>\n",
       "    <tr>\n",
       "      <th>0</th>\n",
       "      <td>0.022</td>\n",
       "      <td>0.364</td>\n",
       "      <td>0</td>\n",
       "      <td>0</td>\n",
       "      <td>148</td>\n",
       "      <td>sc</td>\n",
       "      <td>148_1b1_Al_sc_Meditron</td>\n",
       "    </tr>\n",
       "    <tr>\n",
       "      <th>1</th>\n",
       "      <td>0.364</td>\n",
       "      <td>2.436</td>\n",
       "      <td>0</td>\n",
       "      <td>0</td>\n",
       "      <td>148</td>\n",
       "      <td>sc</td>\n",
       "      <td>148_1b1_Al_sc_Meditron</td>\n",
       "    </tr>\n",
       "    <tr>\n",
       "      <th>2</th>\n",
       "      <td>2.436</td>\n",
       "      <td>4.636</td>\n",
       "      <td>0</td>\n",
       "      <td>0</td>\n",
       "      <td>148</td>\n",
       "      <td>sc</td>\n",
       "      <td>148_1b1_Al_sc_Meditron</td>\n",
       "    </tr>\n",
       "    <tr>\n",
       "      <th>3</th>\n",
       "      <td>4.636</td>\n",
       "      <td>6.793</td>\n",
       "      <td>0</td>\n",
       "      <td>0</td>\n",
       "      <td>148</td>\n",
       "      <td>sc</td>\n",
       "      <td>148_1b1_Al_sc_Meditron</td>\n",
       "    </tr>\n",
       "    <tr>\n",
       "      <th>4</th>\n",
       "      <td>6.793</td>\n",
       "      <td>8.750</td>\n",
       "      <td>0</td>\n",
       "      <td>0</td>\n",
       "      <td>148</td>\n",
       "      <td>sc</td>\n",
       "      <td>148_1b1_Al_sc_Meditron</td>\n",
       "    </tr>\n",
       "  </tbody>\n",
       "</table>\n",
       "</div>"
      ],
      "text/plain": [
       "   start    end  crackles  weezels  pid mode                filename\n",
       "0  0.022  0.364         0        0  148   sc  148_1b1_Al_sc_Meditron\n",
       "1  0.364  2.436         0        0  148   sc  148_1b1_Al_sc_Meditron\n",
       "2  2.436  4.636         0        0  148   sc  148_1b1_Al_sc_Meditron\n",
       "3  4.636  6.793         0        0  148   sc  148_1b1_Al_sc_Meditron\n",
       "4  6.793  8.750         0        0  148   sc  148_1b1_Al_sc_Meditron"
      ]
     },
     "execution_count": 8,
     "metadata": {},
     "output_type": "execute_result"
    }
   ],
   "source": [
    "files_data=[]\n",
    "for file in files:\n",
    "    data=pd.read_csv(path + file + '.txt',sep='\\t',names=['start','end','crackles','weezels'])\n",
    "    name_data=getFilenameInfo(file)\n",
    "    data['pid']=name_data[0]\n",
    "    data['mode']=name_data[-2]\n",
    "    data['filename']=file\n",
    "    files_data.append(data)\n",
    "files_df=pd.concat(files_data)\n",
    "files_df.reset_index()\n",
    "files_df.head()"
   ]
  },
  {
   "cell_type": "code",
   "execution_count": 9,
   "metadata": {
    "execution": {
     "iopub.execute_input": "2020-09-23T14:46:22.473040Z",
     "iopub.status.busy": "2020-09-23T14:46:22.472165Z",
     "iopub.status.idle": "2020-09-23T14:46:22.478269Z",
     "shell.execute_reply": "2020-09-23T14:46:22.477400Z"
    },
    "papermill": {
     "duration": 0.040993,
     "end_time": "2020-09-23T14:46:22.478401",
     "exception": false,
     "start_time": "2020-09-23T14:46:22.437408",
     "status": "completed"
    },
    "tags": []
   },
   "outputs": [
    {
     "name": "stdout",
     "output_type": "stream",
     "text": [
      "<class 'pandas.core.frame.DataFrame'>\n",
      "RangeIndex: 126 entries, 0 to 125\n",
      "Data columns (total 2 columns):\n",
      " #   Column   Non-Null Count  Dtype \n",
      "---  ------   --------------  ----- \n",
      " 0   pid      126 non-null    int64 \n",
      " 1   disease  126 non-null    object\n",
      "dtypes: int64(1), object(1)\n",
      "memory usage: 2.1+ KB\n"
     ]
    }
   ],
   "source": [
    "patient_data.info()"
   ]
  },
  {
   "cell_type": "code",
   "execution_count": 10,
   "metadata": {
    "execution": {
     "iopub.execute_input": "2020-09-23T14:46:22.525212Z",
     "iopub.status.busy": "2020-09-23T14:46:22.524264Z",
     "iopub.status.idle": "2020-09-23T14:46:22.533042Z",
     "shell.execute_reply": "2020-09-23T14:46:22.532559Z"
    },
    "papermill": {
     "duration": 0.034734,
     "end_time": "2020-09-23T14:46:22.533178",
     "exception": false,
     "start_time": "2020-09-23T14:46:22.498444",
     "status": "completed"
    },
    "tags": []
   },
   "outputs": [
    {
     "name": "stdout",
     "output_type": "stream",
     "text": [
      "<class 'pandas.core.frame.DataFrame'>\n",
      "Int64Index: 6898 entries, 0 to 3\n",
      "Data columns (total 7 columns):\n",
      " #   Column    Non-Null Count  Dtype  \n",
      "---  ------    --------------  -----  \n",
      " 0   start     6898 non-null   float64\n",
      " 1   end       6898 non-null   float64\n",
      " 2   crackles  6898 non-null   int64  \n",
      " 3   weezels   6898 non-null   int64  \n",
      " 4   pid       6898 non-null   object \n",
      " 5   mode      6898 non-null   object \n",
      " 6   filename  6898 non-null   object \n",
      "dtypes: float64(2), int64(2), object(3)\n",
      "memory usage: 431.1+ KB\n"
     ]
    }
   ],
   "source": [
    "files_df.info()"
   ]
  },
  {
   "cell_type": "code",
   "execution_count": 11,
   "metadata": {
    "execution": {
     "iopub.execute_input": "2020-09-23T14:46:22.617962Z",
     "iopub.status.busy": "2020-09-23T14:46:22.616343Z",
     "iopub.status.idle": "2020-09-23T14:46:22.618566Z",
     "shell.execute_reply": "2020-09-23T14:46:22.618988Z"
    },
    "papermill": {
     "duration": 0.02817,
     "end_time": "2020-09-23T14:46:22.619090",
     "exception": false,
     "start_time": "2020-09-23T14:46:22.590920",
     "status": "completed"
    },
    "tags": []
   },
   "outputs": [],
   "source": [
    "patient_data.pid=patient_data.pid.astype('int32')\n",
    "files_df.pid=files_df.pid.astype('int32')"
   ]
  },
  {
   "cell_type": "code",
   "execution_count": 12,
   "metadata": {
    "execution": {
     "iopub.execute_input": "2020-09-23T14:46:22.666192Z",
     "iopub.status.busy": "2020-09-23T14:46:22.665671Z",
     "iopub.status.idle": "2020-09-23T14:46:22.685260Z",
     "shell.execute_reply": "2020-09-23T14:46:22.684781Z"
    },
    "papermill": {
     "duration": 0.047174,
     "end_time": "2020-09-23T14:46:22.685361",
     "exception": false,
     "start_time": "2020-09-23T14:46:22.638187",
     "status": "completed"
    },
    "tags": []
   },
   "outputs": [
    {
     "data": {
      "text/html": [
       "<div>\n",
       "<style scoped>\n",
       "    .dataframe tbody tr th:only-of-type {\n",
       "        vertical-align: middle;\n",
       "    }\n",
       "\n",
       "    .dataframe tbody tr th {\n",
       "        vertical-align: top;\n",
       "    }\n",
       "\n",
       "    .dataframe thead th {\n",
       "        text-align: right;\n",
       "    }\n",
       "</style>\n",
       "<table border=\"1\" class=\"dataframe\">\n",
       "  <thead>\n",
       "    <tr style=\"text-align: right;\">\n",
       "      <th></th>\n",
       "      <th>start</th>\n",
       "      <th>end</th>\n",
       "      <th>crackles</th>\n",
       "      <th>weezels</th>\n",
       "      <th>pid</th>\n",
       "      <th>mode</th>\n",
       "      <th>filename</th>\n",
       "      <th>disease</th>\n",
       "    </tr>\n",
       "  </thead>\n",
       "  <tbody>\n",
       "    <tr>\n",
       "      <th>0</th>\n",
       "      <td>0.022</td>\n",
       "      <td>0.364</td>\n",
       "      <td>0</td>\n",
       "      <td>0</td>\n",
       "      <td>148</td>\n",
       "      <td>sc</td>\n",
       "      <td>148_1b1_Al_sc_Meditron</td>\n",
       "      <td>URTI</td>\n",
       "    </tr>\n",
       "    <tr>\n",
       "      <th>1</th>\n",
       "      <td>0.364</td>\n",
       "      <td>2.436</td>\n",
       "      <td>0</td>\n",
       "      <td>0</td>\n",
       "      <td>148</td>\n",
       "      <td>sc</td>\n",
       "      <td>148_1b1_Al_sc_Meditron</td>\n",
       "      <td>URTI</td>\n",
       "    </tr>\n",
       "    <tr>\n",
       "      <th>2</th>\n",
       "      <td>2.436</td>\n",
       "      <td>4.636</td>\n",
       "      <td>0</td>\n",
       "      <td>0</td>\n",
       "      <td>148</td>\n",
       "      <td>sc</td>\n",
       "      <td>148_1b1_Al_sc_Meditron</td>\n",
       "      <td>URTI</td>\n",
       "    </tr>\n",
       "    <tr>\n",
       "      <th>3</th>\n",
       "      <td>4.636</td>\n",
       "      <td>6.793</td>\n",
       "      <td>0</td>\n",
       "      <td>0</td>\n",
       "      <td>148</td>\n",
       "      <td>sc</td>\n",
       "      <td>148_1b1_Al_sc_Meditron</td>\n",
       "      <td>URTI</td>\n",
       "    </tr>\n",
       "    <tr>\n",
       "      <th>4</th>\n",
       "      <td>6.793</td>\n",
       "      <td>8.750</td>\n",
       "      <td>0</td>\n",
       "      <td>0</td>\n",
       "      <td>148</td>\n",
       "      <td>sc</td>\n",
       "      <td>148_1b1_Al_sc_Meditron</td>\n",
       "      <td>URTI</td>\n",
       "    </tr>\n",
       "  </tbody>\n",
       "</table>\n",
       "</div>"
      ],
      "text/plain": [
       "   start    end  crackles  weezels  pid mode                filename disease\n",
       "0  0.022  0.364         0        0  148   sc  148_1b1_Al_sc_Meditron    URTI\n",
       "1  0.364  2.436         0        0  148   sc  148_1b1_Al_sc_Meditron    URTI\n",
       "2  2.436  4.636         0        0  148   sc  148_1b1_Al_sc_Meditron    URTI\n",
       "3  4.636  6.793         0        0  148   sc  148_1b1_Al_sc_Meditron    URTI\n",
       "4  6.793  8.750         0        0  148   sc  148_1b1_Al_sc_Meditron    URTI"
      ]
     },
     "execution_count": 12,
     "metadata": {},
     "output_type": "execute_result"
    }
   ],
   "source": [
    "data=pd.merge(files_df,patient_data,on='pid')\n",
    "data.head()"
   ]
  },
  {
   "cell_type": "code",
   "execution_count": 14,
   "metadata": {
    "execution": {
     "iopub.execute_input": "2020-09-23T14:46:22.730842Z",
     "iopub.status.busy": "2020-09-23T14:46:22.730334Z",
     "iopub.status.idle": "2020-09-23T14:46:22.970889Z",
     "shell.execute_reply": "2020-09-23T14:46:22.970028Z"
    },
    "papermill": {
     "duration": 0.264532,
     "end_time": "2020-09-23T14:46:22.971006",
     "exception": false,
     "start_time": "2020-09-23T14:46:22.706474",
     "status": "completed"
    },
    "tags": []
   },
   "outputs": [],
   "source": [
    "if not os.path.exists(\"data\"):\n",
    "    os.makedirs('data')\n",
    "\n",
    "data.to_csv('data/data.csv',index=False)"
   ]
  },
  {
   "attachments": {},
   "cell_type": "markdown",
   "metadata": {
    "papermill": {
     "duration": 0.019974,
     "end_time": "2020-09-23T14:46:23.011147",
     "exception": false,
     "start_time": "2020-09-23T14:46:22.991173",
     "status": "completed"
    },
    "tags": []
   },
   "source": [
    "### Processing Audio files"
   ]
  },
  {
   "cell_type": "code",
   "execution_count": 15,
   "metadata": {
    "execution": {
     "iopub.execute_input": "2020-09-23T14:46:23.098063Z",
     "iopub.status.busy": "2020-09-23T14:46:23.096277Z",
     "iopub.status.idle": "2020-09-23T14:46:23.098700Z",
     "shell.execute_reply": "2020-09-23T14:46:23.099131Z"
    },
    "papermill": {
     "duration": 0.028971,
     "end_time": "2020-09-23T14:46:23.099240",
     "exception": false,
     "start_time": "2020-09-23T14:46:23.070269",
     "status": "completed"
    },
    "tags": []
   },
   "outputs": [],
   "source": [
    "def getPureSample(raw_data,start,end,sr=22050):\n",
    "    '''\n",
    "    Takes a numpy array and spilts its using start and end args\n",
    "    '''\n",
    "    max_ind = len(raw_data) \n",
    "    start_ind = min(int(start * sr), max_ind)\n",
    "    end_ind = min(int(end * sr), max_ind)\n",
    "    return raw_data[start_ind: end_ind]"
   ]
  },
  {
   "cell_type": "code",
   "execution_count": 16,
   "metadata": {
    "execution": {
     "iopub.execute_input": "2020-09-23T14:46:23.184749Z",
     "iopub.status.busy": "2020-09-23T14:46:23.184204Z",
     "iopub.status.idle": "2020-09-23T14:46:23.412355Z",
     "shell.execute_reply": "2020-09-23T14:46:23.412776Z"
    },
    "papermill": {
     "duration": 0.253218,
     "end_time": "2020-09-23T14:46:23.412916",
     "exception": false,
     "start_time": "2020-09-23T14:46:23.159698",
     "status": "completed"
    },
    "tags": []
   },
   "outputs": [
    {
     "data": {
      "text/plain": [
       "<AxesSubplot:ylabel='pid'>"
      ]
     },
     "execution_count": 16,
     "metadata": {},
     "output_type": "execute_result"
    },
    {
     "data": {
      "image/png": "[encoded data removed]",
      "text/plain": [
       "<Figure size 640x480 with 1 Axes>"
      ]
     },
     "metadata": {},
     "output_type": "display_data"
    }
   ],
   "source": [
    "sns.scatterplot(x=(data.end-data.start), y=data.pid)"
   ]
  },
  {
   "cell_type": "code",
   "execution_count": 17,
   "metadata": {
    "execution": {
     "iopub.execute_input": "2020-09-23T14:46:23.466050Z",
     "iopub.status.busy": "2020-09-23T14:46:23.461054Z",
     "iopub.status.idle": "2020-09-23T14:46:23.559588Z",
     "shell.execute_reply": "2020-09-23T14:46:23.559160Z"
    },
    "papermill": {
     "duration": 0.124814,
     "end_time": "2020-09-23T14:46:23.559679",
     "exception": false,
     "start_time": "2020-09-23T14:46:23.434865",
     "status": "completed"
    },
    "tags": []
   },
   "outputs": [
    {
     "data": {
      "text/plain": [
       "<AxesSubplot:>"
      ]
     },
     "execution_count": 17,
     "metadata": {},
     "output_type": "execute_result"
    },
    {
     "data": {
      "image/png": "[encoded data removed]",
      "text/plain": [
       "<Figure size 640x480 with 1 Axes>"
      ]
     },
     "metadata": {},
     "output_type": "display_data"
    }
   ],
   "source": [
    "sns.boxplot(y=(data.end-data.start))"
   ]
  },
  {
   "cell_type": "code",
   "execution_count": 18,
   "metadata": {
    "execution": {
     "iopub.execute_input": "2020-09-23T14:46:23.702343Z",
     "iopub.status.busy": "2020-09-23T14:46:23.701733Z",
     "iopub.status.idle": "2020-09-23T14:46:23.705277Z",
     "shell.execute_reply": "2020-09-23T14:46:23.705879Z"
    },
    "papermill": {
     "duration": 0.031604,
     "end_time": "2020-09-23T14:46:23.705992",
     "exception": false,
     "start_time": "2020-09-23T14:46:23.674388",
     "status": "completed"
    },
    "tags": []
   },
   "outputs": [],
   "source": [
    "if not os.path.exists(\"data/processed_audio_files\"):\n",
    "    os.makedirs('data/processed_audio_files')"
   ]
  },
  {
   "cell_type": "code",
   "execution_count": 19,
   "metadata": {
    "execution": {
     "iopub.execute_input": "2020-09-23T14:46:23.803012Z",
     "iopub.status.busy": "2020-09-23T14:46:23.802197Z",
     "iopub.status.idle": "2020-09-23T14:46:23.809163Z",
     "shell.execute_reply": "2020-09-23T14:46:23.809711Z"
    },
    "papermill": {
     "duration": 0.035255,
     "end_time": "2020-09-23T14:46:23.809823",
     "exception": false,
     "start_time": "2020-09-23T14:46:23.774568",
     "status": "completed"
    },
    "tags": []
   },
   "outputs": [
    {
     "name": "stdout",
     "output_type": "stream",
     "text": [
      "Index -> 0\n",
      "Data->\n",
      " start                        0.022\n",
      "end                          0.364\n",
      "crackles                         0\n",
      "weezels                          0\n",
      "pid                            148\n",
      "mode                            sc\n",
      "filename    148_1b1_Al_sc_Meditron\n",
      "disease                       URTI\n",
      "Name: 0, dtype: object\n"
     ]
    }
   ],
   "source": [
    "for index,row in data.iterrows():\n",
    "    print(\"Index ->\",index)\n",
    "    print(\"Data->\\n\",row)\n",
    "    break"
   ]
  },
  {
   "cell_type": "code",
   "execution_count": 22,
   "metadata": {
    "execution": {
     "iopub.execute_input": "2020-09-23T14:46:23.913338Z",
     "iopub.status.busy": "2020-09-23T14:46:23.912502Z",
     "iopub.status.idle": "2020-09-23T16:16:01.326209Z",
     "shell.execute_reply": "2020-09-23T16:16:01.326673Z"
    },
    "papermill": {
     "duration": 5377.447599,
     "end_time": "2020-09-23T16:16:01.326826",
     "exception": false,
     "start_time": "2020-09-23T14:46:23.879227",
     "status": "completed"
    },
    "tags": []
   },
   "outputs": [
    {
     "name": "stderr",
     "output_type": "stream",
     "text": [
      "/Users/admin/.pyenv/versions/3.7.16/lib/python3.7/site-packages/ipykernel_launcher.py:30: FutureWarning: Pass size=132300 as keyword args. From version 0.10 passing these as positional arguments will result in an error\n"
     ]
    },
    {
     "name": "stdout",
     "output_type": "stream",
     "text": [
      "Total Files Processed:  6898\n"
     ]
    }
   ],
   "source": [
    "\n",
    "i,c=0,0\n",
    "for index,row in data.iterrows():\n",
    "    maxLen=6\n",
    "    start=row['start']\n",
    "    end=row['end']\n",
    "    filename=row['filename']\n",
    "    \n",
    "    #If len > maxLen , change it to maxLen\n",
    "    if end-start>maxLen:\n",
    "        end=start+maxLen\n",
    "    \n",
    "    audio_file_loc=path + filename + '.wav'\n",
    "    \n",
    "    if index > 0:\n",
    "        #check if more cycles exits for same patient if so then add i to change filename\n",
    "        if data.iloc[index-1]['filename']==filename:\n",
    "            i+=1\n",
    "        else:\n",
    "            i=0\n",
    "    filename= filename + '_' + str(i) + '.wav'\n",
    "    \n",
    "    save_path='data/processed_audio_files/' + filename\n",
    "    c+=1\n",
    "    \n",
    "    audioArr,sampleRate=lb.load(audio_file_loc)\n",
    "    pureSample=getPureSample(audioArr,start,end,sampleRate)\n",
    "    \n",
    "    #pad audio if pureSample len < max_len\n",
    "    reqLen=6*sampleRate\n",
    "    padded_data = lb.util.pad_center(pureSample, reqLen)\n",
    "    \n",
    "    sf.write(file=save_path,data=padded_data,samplerate=sampleRate)\n",
    "print('Total Files Processed: ',c)"
   ]
  },
  {
   "cell_type": "markdown",
   "metadata": {},
   "source": []
  }
 ],
 "metadata": {
  "kernelspec": {
   "display_name": "Python 3",
   "language": "python",
   "name": "python3"
  },
  "language_info": {
   "codemirror_mode": {
    "name": "ipython",
    "version": 3
   },
   "file_extension": ".py",
   "mimetype": "text/x-python",
   "name": "python",
   "nbconvert_exporter": "python",
   "pygments_lexer": "ipython3",
   "version": "3.7.16"
  },
  "papermill": {
   "duration": 5395.179099,
   "end_time": "2020-09-23T16:16:01.458198",
   "environment_variables": {},
   "exception": null,
   "input_path": "__notebook__.ipynb",
   "output_path": "__notebook__.ipynb",
   "parameters": {},
   "start_time": "2020-09-23T14:46:06.279099",
   "version": "2.1.0"
  },
  "vscode": {
   "interpreter": {
    "hash": "7faee97eaf6f1afd41aa3a52b8741f0b814f1b453f5cdd496939b9fe3a409ac5"
   }
  }
 },
 "nbformat": 4,
 "nbformat_minor": 4
}
