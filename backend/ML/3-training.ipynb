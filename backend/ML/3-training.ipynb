{
 "cells": [
  {
   "cell_type": "code",
   "execution_count": 2,
   "metadata": {
    "_cell_guid": "b1076dfc-b9ad-4769-8c92-a6c4dae69d19",
    "_uuid": "8f2839f25d086af736a60e9eeb907d3b93b6e0e5"
   },
   "outputs": [],
   "source": [
    "import numpy as np # linear algebra\n",
    "import pandas as pd # data processing, CSV file I/O (e.g. pd.read_csv)\n",
    "import tensorflow as tf\n",
    "from tensorflow import keras\n",
    "import matplotlib.pyplot as plt\n",
    "import seaborn as sns\n",
    "import librosa as lb\n",
    "import librosa.display as lbd\n",
    "from sklearn.preprocessing import LabelEncoder\n",
    "import tensorflow.keras.backend as K\n",
    "\n",
    "import os"
   ]
  },
  {
   "cell_type": "code",
   "execution_count": 3,
   "metadata": {
    "_cell_guid": "79c7e3d0-c299-4dcb-8224-4455121ee9b0",
    "_uuid": "d629ff2d2480ee46fbb7e2d37f6b5fab8052498a"
   },
   "outputs": [
    {
     "data": {
      "text/html": [
       "<div>\n",
       "<style scoped>\n",
       "    .dataframe tbody tr th:only-of-type {\n",
       "        vertical-align: middle;\n",
       "    }\n",
       "\n",
       "    .dataframe tbody tr th {\n",
       "        vertical-align: top;\n",
       "    }\n",
       "\n",
       "    .dataframe thead th {\n",
       "        text-align: right;\n",
       "    }\n",
       "</style>\n",
       "<table border=\"1\" class=\"dataframe\">\n",
       "  <thead>\n",
       "    <tr style=\"text-align: right;\">\n",
       "      <th></th>\n",
       "      <th>Unnamed: 0</th>\n",
       "      <th>pid</th>\n",
       "      <th>filename</th>\n",
       "      <th>disease</th>\n",
       "    </tr>\n",
       "  </thead>\n",
       "  <tbody>\n",
       "    <tr>\n",
       "      <th>0</th>\n",
       "      <td>1520</td>\n",
       "      <td>166</td>\n",
       "      <td>166_1p1_Ll_sc_Meditron_18.wav</td>\n",
       "      <td>COPD</td>\n",
       "    </tr>\n",
       "    <tr>\n",
       "      <th>1</th>\n",
       "      <td>5515</td>\n",
       "      <td>224</td>\n",
       "      <td>224_1b2_Al_sc_Meditron_6.wav</td>\n",
       "      <td>Healthy</td>\n",
       "    </tr>\n",
       "    <tr>\n",
       "      <th>2</th>\n",
       "      <td>473</td>\n",
       "      <td>130</td>\n",
       "      <td>130_1p4_Ll_mc_AKGC417L_0.wav</td>\n",
       "      <td>COPD</td>\n",
       "    </tr>\n",
       "    <tr>\n",
       "      <th>3</th>\n",
       "      <td>6323</td>\n",
       "      <td>194</td>\n",
       "      <td>194_1b1_Pr_sc_Meditron_0.wav</td>\n",
       "      <td>Healthy</td>\n",
       "    </tr>\n",
       "    <tr>\n",
       "      <th>4</th>\n",
       "      <td>1319</td>\n",
       "      <td>147</td>\n",
       "      <td>147_1b3_Tc_mc_AKGC417L_2.wav</td>\n",
       "      <td>COPD</td>\n",
       "    </tr>\n",
       "  </tbody>\n",
       "</table>\n",
       "</div>"
      ],
      "text/plain": [
       "   Unnamed: 0  pid                       filename  disease\n",
       "0        1520  166  166_1p1_Ll_sc_Meditron_18.wav     COPD\n",
       "1        5515  224   224_1b2_Al_sc_Meditron_6.wav  Healthy\n",
       "2         473  130   130_1p4_Ll_mc_AKGC417L_0.wav     COPD\n",
       "3        6323  194   194_1b1_Pr_sc_Meditron_0.wav  Healthy\n",
       "4        1319  147   147_1b3_Tc_mc_AKGC417L_2.wav     COPD"
      ]
     },
     "execution_count": 3,
     "metadata": {},
     "output_type": "execute_result"
    }
   ],
   "source": [
    "train=pd.read_csv('data/train.csv')\n",
    "val=pd.read_csv('data/val.csv')\n",
    "train.head()"
   ]
  },
  {
   "cell_type": "code",
   "execution_count": 4,
   "metadata": {},
   "outputs": [
    {
     "data": {
      "text/plain": [
       "0       COPD\n",
       "1       COPD\n",
       "2       COPD\n",
       "3       COPD\n",
       "4       COPD\n",
       "        ... \n",
       "1720    COPD\n",
       "1721    COPD\n",
       "1722    COPD\n",
       "1723    COPD\n",
       "1724    COPD\n",
       "Name: disease, Length: 1725, dtype: object"
      ]
     },
     "execution_count": 4,
     "metadata": {},
     "output_type": "execute_result"
    }
   ],
   "source": [
    "ytrain=train.disease\n",
    "yval=val.disease\n",
    "yval"
   ]
  },
  {
   "cell_type": "code",
   "execution_count": 5,
   "metadata": {},
   "outputs": [],
   "source": [
    "le=LabelEncoder()\n",
    "ytrain=le.fit_transform(ytrain)\n",
    "yval=le.transform(yval)"
   ]
  },
  {
   "cell_type": "markdown",
   "metadata": {},
   "source": [
    "# Feature Extraction"
   ]
  },
  {
   "cell_type": "code",
   "execution_count": 6,
   "metadata": {},
   "outputs": [],
   "source": [
    "def getFeatures(path):\n",
    "    soundArr,sample_rate=lb.load(path)\n",
    "    mfcc=lb.feature.mfcc(y=soundArr,sr=sample_rate)\n",
    "    cstft=lb.feature.chroma_stft(y=soundArr,sr=sample_rate)\n",
    "    mSpec=lb.feature.melspectrogram(y=soundArr,sr=sample_rate)\n",
    "\n",
    "    return mfcc,cstft,mSpec"
   ]
  },
  {
   "cell_type": "code",
   "execution_count": 7,
   "metadata": {},
   "outputs": [
    {
     "name": "stderr",
     "output_type": "stream",
     "text": [
      "/Users/admin/.pyenv/versions/3.7.16/lib/python3.7/site-packages/librosa/util/decorators.py:88: UserWarning: Trying to estimate tuning from empty frequency set.\n",
      "  return f(*args, **kwargs)\n"
     ]
    }
   ],
   "source": [
    "root='data/processed_audio_files/'\n",
    "mfcc,cstft,mSpec=[],[],[]\n",
    "\n",
    "for idx,row in val.iterrows():\n",
    "    path=root + row['filename']\n",
    "    a,b,c=getFeatures(path)\n",
    "    mfcc.append(a)\n",
    "    cstft.append(b)\n",
    "    mSpec.append(c)\n",
    "    \n",
    "mfcc_val=np.array(mfcc)\n",
    "cstft_val=np.array(cstft)\n",
    "mSpec_val=np.array(mSpec)"
   ]
  },
  {
   "cell_type": "code",
   "execution_count": 19,
   "metadata": {},
   "outputs": [
    {
     "name": "stderr",
     "output_type": "stream",
     "text": [
      "/Users/admin/.pyenv/versions/3.7.16/lib/python3.7/site-packages/librosa/util/decorators.py:88: UserWarning: Trying to estimate tuning from empty frequency set.\n",
      "  return f(*args, **kwargs)\n"
     ]
    }
   ],
   "source": [
    "root='data/processed_audio_files/'\n",
    "mfcc,cstft,mSpec=[],[],[]\n",
    "\n",
    "for idx,row in train.iterrows():\n",
    "    path=root + row['filename']\n",
    "    a,b,c=getFeatures(path)\n",
    "    mfcc.append(a)\n",
    "    cstft.append(b)\n",
    "    mSpec.append(c)\n",
    "    \n",
    "mfcc_train=np.array(mfcc)\n",
    "cstft_train=np.array(cstft)\n",
    "mSpec_train=np.array(mSpec)"
   ]
  },
  {
   "cell_type": "markdown",
   "metadata": {},
   "source": [
    "# Testing Features"
   ]
  },
  {
   "cell_type": "code",
   "execution_count": 8,
   "metadata": {},
   "outputs": [],
   "source": [
    "my_callbacks = [\n",
    "    tf.keras.callbacks.EarlyStopping(patience=5),\n",
    "    tf.keras.callbacks.ReduceLROnPlateau(monitor='val_loss', factor=0.1,\n",
    "                              patience=3, min_lr=0.00001,mode='min')\n",
    "]"
   ]
  },
  {
   "cell_type": "markdown",
   "metadata": {},
   "source": [
    "*creating **three** different **CNN** and then Combining them to a **Dense Network**."
   ]
  },
  {
   "cell_type": "code",
   "execution_count": 9,
   "metadata": {},
   "outputs": [
    {
     "name": "stderr",
     "output_type": "stream",
     "text": [
      "2023-03-08 18:00:05.992779: I tensorflow/compiler/xla/service/service.cc:168] XLA service 0x7fd052e4e500 initialized for platform Host (this does not guarantee that XLA will be used). Devices:\n",
      "2023-03-08 18:00:05.992916: I tensorflow/compiler/xla/service/service.cc:176]   StreamExecutor device (0): Host, Default Version\n"
     ]
    }
   ],
   "source": [
    "mfcc_input=keras.layers.Input(shape=(20,259,1),name=\"mfccInput\")\n",
    "x=keras.layers.Conv2D(32,5,strides=(1,3),padding='same')(mfcc_input)\n",
    "x=keras.layers.BatchNormalization()(x)\n",
    "x=keras.layers.Activation(keras.activations.relu)(x)\n",
    "x=keras.layers.MaxPooling2D(pool_size=2,padding='valid')(x)\n",
    "\n",
    "x=keras.layers.Conv2D(64,3,strides=(1,2),padding='same')(x)\n",
    "x=keras.layers.BatchNormalization()(x)\n",
    "x=keras.layers.Activation(keras.activations.relu)(x)\n",
    "x=keras.layers.MaxPooling2D(pool_size=2,padding='valid')(x)\n",
    "\n",
    "x=keras.layers.Conv2D(96,2,padding='same')(x)\n",
    "x=keras.layers.BatchNormalization()(x)\n",
    "x=keras.layers.Activation(keras.activations.relu)(x)\n",
    "x=keras.layers.MaxPooling2D(pool_size=2,padding='valid')(x)\n",
    "\n",
    "x=keras.layers.Conv2D(128,2,padding='same')(x)\n",
    "x=keras.layers.BatchNormalization()(x)\n",
    "x=keras.layers.Activation(keras.activations.relu)(x)\n",
    "mfcc_output=keras.layers.GlobalMaxPooling2D()(x)\n",
    "\n",
    "mfcc_model=keras.Model(mfcc_input, mfcc_output, name=\"mfccModel\")"
   ]
  },
  {
   "cell_type": "code",
   "execution_count": 10,
   "metadata": {},
   "outputs": [
    {
     "name": "stdout",
     "output_type": "stream",
     "text": [
      "Model: \"mfccModel\"\n",
      "_________________________________________________________________\n",
      "Layer (type)                 Output Shape              Param #   \n",
      "=================================================================\n",
      "mfccInput (InputLayer)       [(None, 20, 259, 1)]      0         \n",
      "_________________________________________________________________\n",
      "conv2d (Conv2D)              (None, 20, 87, 32)        832       \n",
      "_________________________________________________________________\n",
      "batch_normalization (BatchNo (None, 20, 87, 32)        128       \n",
      "_________________________________________________________________\n",
      "activation (Activation)      (None, 20, 87, 32)        0         \n",
      "_________________________________________________________________\n",
      "max_pooling2d (MaxPooling2D) (None, 10, 43, 32)        0         \n",
      "_________________________________________________________________\n",
      "conv2d_1 (Conv2D)            (None, 10, 22, 64)        18496     \n",
      "_________________________________________________________________\n",
      "batch_normalization_1 (Batch (None, 10, 22, 64)        256       \n",
      "_________________________________________________________________\n",
      "activation_1 (Activation)    (None, 10, 22, 64)        0         \n",
      "_________________________________________________________________\n",
      "max_pooling2d_1 (MaxPooling2 (None, 5, 11, 64)         0         \n",
      "_________________________________________________________________\n",
      "conv2d_2 (Conv2D)            (None, 5, 11, 96)         24672     \n",
      "_________________________________________________________________\n",
      "batch_normalization_2 (Batch (None, 5, 11, 96)         384       \n",
      "_________________________________________________________________\n",
      "activation_2 (Activation)    (None, 5, 11, 96)         0         \n",
      "_________________________________________________________________\n",
      "max_pooling2d_2 (MaxPooling2 (None, 2, 5, 96)          0         \n",
      "_________________________________________________________________\n",
      "conv2d_3 (Conv2D)            (None, 2, 5, 128)         49280     \n",
      "_________________________________________________________________\n",
      "batch_normalization_3 (Batch (None, 2, 5, 128)         512       \n",
      "_________________________________________________________________\n",
      "activation_3 (Activation)    (None, 2, 5, 128)         0         \n",
      "_________________________________________________________________\n",
      "global_max_pooling2d (Global (None, 128)               0         \n",
      "=================================================================\n",
      "Total params: 94,560\n",
      "Trainable params: 93,920\n",
      "Non-trainable params: 640\n",
      "_________________________________________________________________\n"
     ]
    }
   ],
   "source": [
    "mfcc_model.summary()"
   ]
  },
  {
   "cell_type": "code",
   "execution_count": 11,
   "metadata": {},
   "outputs": [],
   "source": [
    "croma_input=keras.layers.Input(shape=(12,259,1),name=\"cromaInput\")\n",
    "x=keras.layers.Conv2D(32,5,strides=(1,3),padding='same')(croma_input)\n",
    "x=keras.layers.BatchNormalization()(x)\n",
    "x=keras.layers.Activation(keras.activations.relu)(x)\n",
    "x=keras.layers.MaxPooling2D(pool_size=2,padding='valid')(x)\n",
    "\n",
    "x=keras.layers.Conv2D(64,3,strides=(1,2),padding='same')(x)\n",
    "x=keras.layers.BatchNormalization()(x)\n",
    "x=keras.layers.Activation(keras.activations.relu)(x)\n",
    "x=keras.layers.MaxPooling2D(pool_size=2,padding='valid')(x)\n",
    "\n",
    "x=keras.layers.Conv2D(128,2,padding='same')(x)\n",
    "x=keras.layers.BatchNormalization()(x)\n",
    "x=keras.layers.Activation(keras.activations.relu)(x)\n",
    "croma_output=keras.layers.GlobalMaxPooling2D()(x)\n",
    "\n",
    "croma_model=keras.Model(croma_input, croma_output, name=\"cromaModel\")"
   ]
  },
  {
   "cell_type": "code",
   "execution_count": 46,
   "metadata": {},
   "outputs": [
    {
     "name": "stdout",
     "output_type": "stream",
     "text": [
      "Model: \"cromaModel\"\n",
      "_________________________________________________________________\n",
      "Layer (type)                 Output Shape              Param #   \n",
      "=================================================================\n",
      "cromaInput (InputLayer)      [(None, 12, 259, 1)]      0         \n",
      "_________________________________________________________________\n",
      "conv2d_13 (Conv2D)           (None, 12, 87, 32)        832       \n",
      "_________________________________________________________________\n",
      "batch_normalization_13 (Batc (None, 12, 87, 32)        128       \n",
      "_________________________________________________________________\n",
      "activation_13 (Activation)   (None, 12, 87, 32)        0         \n",
      "_________________________________________________________________\n",
      "max_pooling2d_9 (MaxPooling2 (None, 6, 43, 32)         0         \n",
      "_________________________________________________________________\n",
      "conv2d_14 (Conv2D)           (None, 6, 22, 64)         18496     \n",
      "_________________________________________________________________\n",
      "batch_normalization_14 (Batc (None, 6, 22, 64)         256       \n",
      "_________________________________________________________________\n",
      "activation_14 (Activation)   (None, 6, 22, 64)         0         \n",
      "_________________________________________________________________\n",
      "max_pooling2d_10 (MaxPooling (None, 3, 11, 64)         0         \n",
      "_________________________________________________________________\n",
      "conv2d_15 (Conv2D)           (None, 3, 11, 128)        32896     \n",
      "_________________________________________________________________\n",
      "batch_normalization_15 (Batc (None, 3, 11, 128)        512       \n",
      "_________________________________________________________________\n",
      "activation_15 (Activation)   (None, 3, 11, 128)        0         \n",
      "_________________________________________________________________\n",
      "global_max_pooling2d_4 (Glob (None, 128)               0         \n",
      "=================================================================\n",
      "Total params: 53,120\n",
      "Trainable params: 52,672\n",
      "Non-trainable params: 448\n",
      "_________________________________________________________________\n"
     ]
    }
   ],
   "source": [
    "croma_model.summary()"
   ]
  },
  {
   "cell_type": "code",
   "execution_count": 12,
   "metadata": {},
   "outputs": [],
   "source": [
    "mSpec_input=keras.layers.Input(shape=(128,259,1),name=\"mSpecInput\")\n",
    "x=keras.layers.Conv2D(32,5,strides=(2,3),padding='same')(mSpec_input)\n",
    "x=keras.layers.BatchNormalization()(x)\n",
    "x=keras.layers.Activation(keras.activations.relu)(x)\n",
    "x=keras.layers.MaxPooling2D(pool_size=2,padding='valid')(x)\n",
    "\n",
    "x=keras.layers.Conv2D(64,3,strides=(2,2),padding='same')(x)\n",
    "x=keras.layers.BatchNormalization()(x)\n",
    "x=keras.layers.Activation(keras.activations.relu)(x)\n",
    "x=keras.layers.MaxPooling2D(pool_size=2,padding='valid')(x)\n",
    "\n",
    "x=keras.layers.Conv2D(96,2,padding='same')(x)\n",
    "x=keras.layers.BatchNormalization()(x)\n",
    "x=keras.layers.Activation(keras.activations.relu)(x)\n",
    "x=keras.layers.MaxPooling2D(pool_size=2,padding='valid')(x)\n",
    "\n",
    "x=keras.layers.Conv2D(128,2,padding='same')(x)\n",
    "x=keras.layers.BatchNormalization()(x)\n",
    "x=keras.layers.Activation(keras.activations.relu)(x)\n",
    "mSpec_output=keras.layers.GlobalMaxPooling2D()(x)\n",
    "\n",
    "mSpec_model=keras.Model(mSpec_input, mSpec_output, name=\"mSpecModel\")"
   ]
  },
  {
   "cell_type": "code",
   "execution_count": 13,
   "metadata": {},
   "outputs": [
    {
     "name": "stdout",
     "output_type": "stream",
     "text": [
      "Model: \"mSpecModel\"\n",
      "_________________________________________________________________\n",
      "Layer (type)                 Output Shape              Param #   \n",
      "=================================================================\n",
      "mSpecInput (InputLayer)      [(None, 128, 259, 1)]     0         \n",
      "_________________________________________________________________\n",
      "conv2d_7 (Conv2D)            (None, 64, 87, 32)        832       \n",
      "_________________________________________________________________\n",
      "batch_normalization_7 (Batch (None, 64, 87, 32)        128       \n",
      "_________________________________________________________________\n",
      "activation_7 (Activation)    (None, 64, 87, 32)        0         \n",
      "_________________________________________________________________\n",
      "max_pooling2d_5 (MaxPooling2 (None, 32, 43, 32)        0         \n",
      "_________________________________________________________________\n",
      "conv2d_8 (Conv2D)            (None, 16, 22, 64)        18496     \n",
      "_________________________________________________________________\n",
      "batch_normalization_8 (Batch (None, 16, 22, 64)        256       \n",
      "_________________________________________________________________\n",
      "activation_8 (Activation)    (None, 16, 22, 64)        0         \n",
      "_________________________________________________________________\n",
      "max_pooling2d_6 (MaxPooling2 (None, 8, 11, 64)         0         \n",
      "_________________________________________________________________\n",
      "conv2d_9 (Conv2D)            (None, 8, 11, 96)         24672     \n",
      "_________________________________________________________________\n",
      "batch_normalization_9 (Batch (None, 8, 11, 96)         384       \n",
      "_________________________________________________________________\n",
      "activation_9 (Activation)    (None, 8, 11, 96)         0         \n",
      "_________________________________________________________________\n",
      "max_pooling2d_7 (MaxPooling2 (None, 4, 5, 96)          0         \n",
      "_________________________________________________________________\n",
      "conv2d_10 (Conv2D)           (None, 4, 5, 128)         49280     \n",
      "_________________________________________________________________\n",
      "batch_normalization_10 (Batc (None, 4, 5, 128)         512       \n",
      "_________________________________________________________________\n",
      "activation_10 (Activation)   (None, 4, 5, 128)         0         \n",
      "_________________________________________________________________\n",
      "global_max_pooling2d_2 (Glob (None, 128)               0         \n",
      "=================================================================\n",
      "Total params: 94,560\n",
      "Trainable params: 93,920\n",
      "Non-trainable params: 640\n",
      "_________________________________________________________________\n"
     ]
    }
   ],
   "source": [
    "mSpec_model.summary()"
   ]
  },
  {
   "cell_type": "code",
   "execution_count": 14,
   "metadata": {},
   "outputs": [],
   "source": [
    "input_mfcc=keras.layers.Input(shape=(20,259,1),name=\"mfcc\")\n",
    "mfcc=mfcc_model(input_mfcc)\n",
    "\n",
    "input_croma=keras.layers.Input(shape=(12,259,1),name=\"croma\")\n",
    "croma=croma_model(input_croma)\n",
    "\n",
    "input_mSpec=keras.layers.Input(shape=(128,259,1),name=\"mspec\")\n",
    "mSpec=mSpec_model(input_mSpec)\n",
    "\n",
    "\n",
    "concat=keras.layers.concatenate([mfcc,croma,mSpec])\n",
    "hidden=keras.layers.Dropout(0.2)(concat)\n",
    "hidden=keras.layers.Dense(50,activation='relu')(concat)\n",
    "hidden=keras.layers.Dropout(0.3)(hidden)\n",
    "hidden=keras.layers.Dense(25,activation='relu')(hidden)\n",
    "hidden=keras.layers.Dropout(0.3)(hidden)\n",
    "output=keras.layers.Dense(8,activation='softmax')(hidden)\n",
    "\n",
    "net=keras.Model([input_mfcc,input_croma,input_mSpec], output, name=\"Net\")"
   ]
  },
  {
   "cell_type": "code",
   "execution_count": 15,
   "metadata": {},
   "outputs": [
    {
     "name": "stdout",
     "output_type": "stream",
     "text": [
      "Model: \"Net\"\n",
      "__________________________________________________________________________________________________\n",
      "Layer (type)                    Output Shape         Param #     Connected to                     \n",
      "==================================================================================================\n",
      "mfcc (InputLayer)               [(None, 20, 259, 1)] 0                                            \n",
      "__________________________________________________________________________________________________\n",
      "croma (InputLayer)              [(None, 12, 259, 1)] 0                                            \n",
      "__________________________________________________________________________________________________\n",
      "mspec (InputLayer)              [(None, 128, 259, 1) 0                                            \n",
      "__________________________________________________________________________________________________\n",
      "mfccModel (Functional)          (None, 128)          94560       mfcc[0][0]                       \n",
      "__________________________________________________________________________________________________\n",
      "cromaModel (Functional)         (None, 128)          53120       croma[0][0]                      \n",
      "__________________________________________________________________________________________________\n",
      "mSpecModel (Functional)         (None, 128)          94560       mspec[0][0]                      \n",
      "__________________________________________________________________________________________________\n",
      "concatenate (Concatenate)       (None, 384)          0           mfccModel[0][0]                  \n",
      "                                                                 cromaModel[0][0]                 \n",
      "                                                                 mSpecModel[0][0]                 \n",
      "__________________________________________________________________________________________________\n",
      "dense (Dense)                   (None, 50)           19250       concatenate[0][0]                \n",
      "__________________________________________________________________________________________________\n",
      "dropout_1 (Dropout)             (None, 50)           0           dense[0][0]                      \n",
      "__________________________________________________________________________________________________\n",
      "dense_1 (Dense)                 (None, 25)           1275        dropout_1[0][0]                  \n",
      "__________________________________________________________________________________________________\n",
      "dropout_2 (Dropout)             (None, 25)           0           dense_1[0][0]                    \n",
      "__________________________________________________________________________________________________\n",
      "dense_2 (Dense)                 (None, 8)            208         dropout_2[0][0]                  \n",
      "==================================================================================================\n",
      "Total params: 262,973\n",
      "Trainable params: 261,245\n",
      "Non-trainable params: 1,728\n",
      "__________________________________________________________________________________________________\n"
     ]
    }
   ],
   "source": [
    "net.summary()"
   ]
  },
  {
   "cell_type": "code",
   "execution_count": 16,
   "metadata": {},
   "outputs": [
    {
     "name": "stdout",
     "output_type": "stream",
     "text": [
      "('Failed to import pydot. You must `pip install pydot` and install graphviz (https://graphviz.gitlab.io/download/), ', 'for `pydotprint` to work.')\n"
     ]
    }
   ],
   "source": [
    "keras.utils.plot_model(net, \"net.png\", show_shapes=True)"
   ]
  },
  {
   "cell_type": "code",
   "execution_count": 17,
   "metadata": {},
   "outputs": [],
   "source": [
    "net.compile(loss='sparse_categorical_crossentropy', optimizer='nadam', metrics=['accuracy'])\n",
    "K.set_value(net.optimizer.learning_rate, 0.001)"
   ]
  },
  {
   "cell_type": "code",
   "execution_count": 20,
   "metadata": {},
   "outputs": [],
   "source": [
    "history=net.fit(\n",
    "    {\"mfcc\":mfcc_train,\"croma\":cstft_train,\"mspec\":mSpec_train},\n",
    "    ytrain,\n",
    "    validation_data=({\"mfcc\":mfcc_val,\"croma\":cstft_val,\"mspec\":mSpec_val},yval),\n",
    "    epochs=100,verbose=0,\n",
    "    callbacks=my_callbacks\n",
    ")"
   ]
  },
  {
   "cell_type": "code",
   "execution_count": 21,
   "metadata": {},
   "outputs": [
    {
     "data": {
      "image/png": "[encoded data removed]",
      "text/plain": [
       "<Figure size 640x480 with 1 Axes>"
      ]
     },
     "metadata": {},
     "output_type": "display_data"
    }
   ],
   "source": [
    "pd.DataFrame(history.history).plot()\n",
    "plt.grid(True)\n",
    "plt.gca().set_ylim(-0.1,1.1)\n",
    "plt.show()"
   ]
  },
  {
   "cell_type": "code",
   "execution_count": 22,
   "metadata": {},
   "outputs": [
    {
     "name": "stdout",
     "output_type": "stream",
     "text": [
      "54/54 [==============================] - 13s 248ms/step - loss: 0.2413 - accuracy: 0.9113\n"
     ]
    },
    {
     "data": {
      "text/plain": [
       "[0.2412869930267334, 0.9113043546676636]"
      ]
     },
     "execution_count": 22,
     "metadata": {},
     "output_type": "execute_result"
    }
   ],
   "source": [
    "net.evaluate({\"mfcc\":mfcc_val,\"croma\":cstft_val,\"mspec\":mSpec_val},yval)"
   ]
  },
  {
   "cell_type": "code",
   "execution_count": 23,
   "metadata": {},
   "outputs": [
    {
     "name": "stdout",
     "output_type": "stream",
     "text": [
      "WARNING:tensorflow:From /Users/admin/.pyenv/versions/3.7.16/lib/python3.7/site-packages/tensorflow/python/training/tracking/tracking.py:111: Model.state_updates (from tensorflow.python.keras.engine.training) is deprecated and will be removed in a future version.\n",
      "Instructions for updating:\n",
      "This property should not be used in TensorFlow 2.0, as updates are applied automatically.\n",
      "WARNING:tensorflow:From /Users/admin/.pyenv/versions/3.7.16/lib/python3.7/site-packages/tensorflow/python/training/tracking/tracking.py:111: Layer.updates (from tensorflow.python.keras.engine.base_layer) is deprecated and will be removed in a future version.\n",
      "Instructions for updating:\n",
      "This property should not be used in TensorFlow 2.0, as updates are applied automatically.\n"
     ]
    },
    {
     "name": "stderr",
     "output_type": "stream",
     "text": [
      "2023-03-08 19:36:35.352423: W tensorflow/python/util/util.cc:348] Sets are not currently considered sequences, but this may change in the future, so consider avoiding using them.\n"
     ]
    },
    {
     "name": "stdout",
     "output_type": "stream",
     "text": [
      "INFO:tensorflow:Assets written to: data/MLModel/assets\n"
     ]
    }
   ],
   "source": [
    "net.save('data/MLModel')"
   ]
  }
 ],
 "metadata": {
  "kernelspec": {
   "display_name": "Python 3 (ipykernel)",
   "language": "python",
   "name": "python3"
  },
  "language_info": {
   "codemirror_mode": {
    "name": "ipython",
    "version": 3
   },
   "file_extension": ".py",
   "mimetype": "text/x-python",
   "name": "python",
   "nbconvert_exporter": "python",
   "pygments_lexer": "ipython3",
   "version": "3.9.16"
  }
 },
 "nbformat": 4,
 "nbformat_minor": 4
}
