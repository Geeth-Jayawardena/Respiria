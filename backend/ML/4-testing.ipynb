{
 "cells": [
  {
   "cell_type": "code",
   "execution_count": 289,
   "metadata": {
    "_cell_guid": "b1076dfc-b9ad-4769-8c92-a6c4dae69d19",
    "_uuid": "8f2839f25d086af736a60e9eeb907d3b93b6e0e5"
   },
   "outputs": [],
   "source": [
    "import numpy as np # linear algebra\n",
    "import tensorflow as tf\n",
    "from tensorflow import keras\n",
    "import matplotlib.pyplot as plt\n",
    "import seaborn as sns\n",
    "import librosa as lb\n",
    "import librosa.display as lbd\n",
    "from sklearn.preprocessing import LabelEncoder\n",
    "import tensorflow.keras.backend as K\n",
    "import decimal\n",
    "from re import split\n",
    "import os"
   ]
  },
  {
   "cell_type": "code",
   "execution_count": 290,
   "metadata": {},
   "outputs": [],
   "source": [
    "d_list=['Asthma', 'Bronchiectasis', 'Bronchiolitis', 'COPD', 'Healthy', 'LRTI', 'Pneumonia', 'URTI']"
   ]
  },
  {
   "cell_type": "code",
   "execution_count": 291,
   "metadata": {},
   "outputs": [],
   "source": [
    "def getFeatures(path):\n",
    "    soundArr,sample_rate=lb.load(path)\n",
    "    mfcc=lb.feature.mfcc(y=soundArr,sr=sample_rate)\n",
    "    cstft=lb.feature.chroma_stft(y=soundArr,sr=sample_rate)\n",
    "    mSpec=lb.feature.melspectrogram(y=soundArr,sr=sample_rate)\n",
    "\n",
    "    return mfcc,cstft,mSpec"
   ]
  },
  {
   "cell_type": "code",
   "execution_count": 293,
   "metadata": {},
   "outputs": [],
   "source": [
    "def get_value(f):\n",
    "    ctx = decimal.Context()\n",
    "    ctx.prec = 50\n",
    "    d1 = ctx.create_decimal(repr(f))\n",
    "    dl = format(d1, 'f')\n",
    "    dl = split(\"^0\\.(0*)\", dl)\n",
    "    return int(dl[-1][0])"
   ]
  },
  {
   "cell_type": "code",
   "execution_count": 294,
   "metadata": {},
   "outputs": [],
   "source": [
    "def normalize(x, newRange=(0, 1)): \n",
    "    xmin, xmax = np.min(x), np.max(x)\n",
    "    norm = (x - xmin)/(xmax - xmin)\n",
    "    \n",
    "    if newRange == (0, 1):\n",
    "        return(norm)\n",
    "    elif newRange != (0, 1):\n",
    "        return norm * (newRange[1] - newRange[0]) + newRange[0]"
   ]
  },
  {
   "cell_type": "code",
   "execution_count": 295,
   "metadata": {},
   "outputs": [],
   "source": [
    "def get_prediction(path):\n",
    "    mfcc,cstft,mSpec=[],[],[]\n",
    "\n",
    "    a,b,c=getFeatures(path)\n",
    "    mfcc.append(a)\n",
    "    cstft.append(b)\n",
    "    mSpec.append(c)\n",
    "        \n",
    "    mfcc_val=np.array(mfcc)\n",
    "    cstft_val=np.array(cstft)\n",
    "    mSpec_val=np.array(mSpec)\n",
    "    \n",
    "    net = keras.models.load_model(\"data/MLModel\")\n",
    "    \n",
    "    pred=net.predict({\"mfcc\":mfcc_val,\"croma\":cstft_val,\"mspec\":mSpec_val})\n",
    "    pred=[get_value(p) for p in pred.flatten()]\n",
    "    pred=np.round(normalize(pred, newRange=(0, 7))).astype(int)\n",
    "    return d_list[pred[0]]"
   ]
  },
  {
   "cell_type": "code",
   "execution_count": 296,
   "metadata": {},
   "outputs": [
    {
     "name": "stderr",
     "output_type": "stream",
     "text": [
      "/Users/admin/.pyenv/versions/3.7.16/lib/python3.7/site-packages/librosa/util/decorators.py:88: UserWarning: Trying to estimate tuning from empty frequency set.\n",
      "  return f(*args, **kwargs)\n"
     ]
    },
    {
     "name": "stdout",
     "output_type": "stream",
     "text": [
      "WARNING:tensorflow:Model was constructed with shape (None, 20, 259, 1) for input Tensor(\"mfcc_18:0\", shape=(None, 20, 259, 1), dtype=float32), but it was called on an input with incompatible shape (None, 20, 862, 1).\n",
      "WARNING:tensorflow:Model was constructed with shape (None, 12, 259, 1) for input Tensor(\"croma_18:0\", shape=(None, 12, 259, 1), dtype=float32), but it was called on an input with incompatible shape (None, 12, 862, 1).\n",
      "WARNING:tensorflow:Model was constructed with shape (None, 128, 259, 1) for input Tensor(\"mspec_18:0\", shape=(None, 128, 259, 1), dtype=float32), but it was called on an input with incompatible shape (None, 128, 862, 1).\n",
      "WARNING:tensorflow:Model was constructed with shape (None, 20, 259, 1) for input Tensor(\"mfccInput_18:0\", shape=(None, 20, 259, 1), dtype=float32), but it was called on an input with incompatible shape (None, 20, 862, 1).\n",
      "WARNING:tensorflow:Model was constructed with shape (None, 12, 259, 1) for input Tensor(\"cromaInput_18:0\", shape=(None, 12, 259, 1), dtype=float32), but it was called on an input with incompatible shape (None, 12, 862, 1).\n",
      "WARNING:tensorflow:Model was constructed with shape (None, 128, 259, 1) for input Tensor(\"mSpecInput_18:0\", shape=(None, 128, 259, 1), dtype=float32), but it was called on an input with incompatible shape (None, 128, 862, 1).\n",
      "WARNING:tensorflow:11 out of the last 11 calls to <function Model.make_predict_function.<locals>.predict_function at 0x1693019e0> triggered tf.function retracing. Tracing is expensive and the excessive number of tracings could be due to (1) creating @tf.function repeatedly in a loop, (2) passing tensors with different shapes, (3) passing Python objects instead of tensors. For (1), please define your @tf.function outside of the loop. For (2), @tf.function has experimental_relax_shapes=True option that relaxes argument shapes that can avoid unnecessary retracing. For (3), please refer to https://www.tensorflow.org/tutorials/customization/performance#python_or_tensor_args and https://www.tensorflow.org/api_docs/python/tf/function for  more details.\n"
     ]
    },
    {
     "data": {
      "text/plain": [
       "'Pneumonia'"
      ]
     },
     "execution_count": 296,
     "metadata": {},
     "output_type": "execute_result"
    }
   ],
   "source": [
    "get_prediction('data/test_audio_files/Pneumonia.wav')"
   ]
  },
  {
   "cell_type": "code",
   "execution_count": 298,
   "metadata": {},
   "outputs": [
    {
     "name": "stdout",
     "output_type": "stream",
     "text": [
      "WARNING:tensorflow:Model was constructed with shape (None, 20, 259, 1) for input Tensor(\"mfcc_20:0\", shape=(None, 20, 259, 1), dtype=float32), but it was called on an input with incompatible shape (None, 20, 862, 1).\n",
      "WARNING:tensorflow:Model was constructed with shape (None, 12, 259, 1) for input Tensor(\"croma_20:0\", shape=(None, 12, 259, 1), dtype=float32), but it was called on an input with incompatible shape (None, 12, 862, 1).\n",
      "WARNING:tensorflow:Model was constructed with shape (None, 128, 259, 1) for input Tensor(\"mspec_20:0\", shape=(None, 128, 259, 1), dtype=float32), but it was called on an input with incompatible shape (None, 128, 862, 1).\n",
      "WARNING:tensorflow:Model was constructed with shape (None, 20, 259, 1) for input Tensor(\"mfccInput_20:0\", shape=(None, 20, 259, 1), dtype=float32), but it was called on an input with incompatible shape (None, 20, 862, 1).\n",
      "WARNING:tensorflow:Model was constructed with shape (None, 12, 259, 1) for input Tensor(\"cromaInput_20:0\", shape=(None, 12, 259, 1), dtype=float32), but it was called on an input with incompatible shape (None, 12, 862, 1).\n",
      "WARNING:tensorflow:Model was constructed with shape (None, 128, 259, 1) for input Tensor(\"mSpecInput_20:0\", shape=(None, 128, 259, 1), dtype=float32), but it was called on an input with incompatible shape (None, 128, 862, 1).\n",
      "WARNING:tensorflow:11 out of the last 11 calls to <function Model.make_predict_function.<locals>.predict_function at 0x16bf31d40> triggered tf.function retracing. Tracing is expensive and the excessive number of tracings could be due to (1) creating @tf.function repeatedly in a loop, (2) passing tensors with different shapes, (3) passing Python objects instead of tensors. For (1), please define your @tf.function outside of the loop. For (2), @tf.function has experimental_relax_shapes=True option that relaxes argument shapes that can avoid unnecessary retracing. For (3), please refer to https://www.tensorflow.org/tutorials/customization/performance#python_or_tensor_args and https://www.tensorflow.org/api_docs/python/tf/function for  more details.\n"
     ]
    },
    {
     "data": {
      "text/plain": [
       "'Healthy'"
      ]
     },
     "execution_count": 298,
     "metadata": {},
     "output_type": "execute_result"
    }
   ],
   "source": [
    "get_prediction('data/audio_and_txt_files/205_1b3_Pr_mc_AKGC417L.wav')"
   ]
  }
 ],
 "metadata": {
  "kernelspec": {
   "display_name": "Python 3 (ipykernel)",
   "language": "python",
   "name": "python3"
  },
  "language_info": {
   "codemirror_mode": {
    "name": "ipython",
    "version": 3
   },
   "file_extension": ".py",
   "mimetype": "text/x-python",
   "name": "python",
   "nbconvert_exporter": "python",
   "pygments_lexer": "ipython3",
   "version": "3.9.16"
  }
 },
 "nbformat": 4,
 "nbformat_minor": 4
}
